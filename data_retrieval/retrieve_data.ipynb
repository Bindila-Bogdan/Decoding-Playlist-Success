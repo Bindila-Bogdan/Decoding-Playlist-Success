{
 "cells": [
  {
   "cell_type": "markdown",
   "metadata": {},
   "source": [
    "### 0. Import libraries and define constants"
   ]
  },
  {
   "cell_type": "code",
   "execution_count": 1,
   "metadata": {},
   "outputs": [],
   "source": [
    "import json\n",
    "import time\n",
    "import requests\n",
    "import pandas as pd\n",
    "from tqdm import tqdm\n"
   ]
  },
  {
   "cell_type": "code",
   "execution_count": 2,
   "metadata": {},
   "outputs": [],
   "source": [
    "CREDENTIALS_FILE_PATH = \"../spotify_key.config\"\n",
    "ARTIST_DATA_PATH = \"../data/artists.json\"\n",
    "AUDIO_FEATURES_DATA_PATH = \"../data/audio_features.json\"\n"
   ]
  },
  {
   "cell_type": "markdown",
   "metadata": {},
   "source": [
    "### 1. Retrieve and store audio features"
   ]
  },
  {
   "cell_type": "code",
   "execution_count": 3,
   "metadata": {},
   "outputs": [],
   "source": [
    "class DataRetriever:\n",
    "    def __init__(self):\n",
    "        self.__auth_token = self.__get_auth_token()\n",
    "\n",
    "    def __get_auth_token(self):\n",
    "        with open(CREDENTIALS_FILE_PATH, \"r\") as input_file:\n",
    "            credentials = input_file.read()\n",
    "        client_id, client_secret = credentials.split(\"\\n\")\n",
    "\n",
    "        response = requests.post(\n",
    "            \"https://accounts.spotify.com/api/token\",\n",
    "            {\n",
    "                \"grant_type\": \"client_credentials\",\n",
    "                \"client_id\": client_id,\n",
    "                \"client_secret\": client_secret,\n",
    "            },\n",
    "        )\n",
    "\n",
    "        auth_token = response.json()[\"access_token\"]\n",
    "\n",
    "        return auth_token.strip()\n",
    "\n",
    "    def get_audio_features(self, track_ids):\n",
    "        response = requests.get(\n",
    "            f\"https://api.spotify.com/v1/audio-features?ids={track_ids}\",\n",
    "            headers={\"Authorization\": f\"Bearer {self.__auth_token}\"},\n",
    "        )\n",
    "\n",
    "        audio_features = response.json()[\"audio_features\"]\n",
    "\n",
    "        return audio_features\n",
    "\n",
    "    def get_artist_data(self, artist_ids):\n",
    "        response = requests.get(\n",
    "            f\"https://api.spotify.com/v1/artists?ids={artist_ids}\",\n",
    "            headers={\"Authorization\": f\"Bearer {self.__auth_token}\"},\n",
    "        )\n",
    "\n",
    "        artists_data = response.json()[\"artists\"]\n",
    "\n",
    "        return artists_data\n"
   ]
  },
  {
   "cell_type": "code",
   "execution_count": 4,
   "metadata": {},
   "outputs": [],
   "source": [
    "class DataSaver:\n",
    "    @staticmethod\n",
    "    def store(data, path):\n",
    "        with open(path, \"w\") as output_file:\n",
    "            json.dump(data, output_file, indent=4)\n"
   ]
  },
  {
   "cell_type": "markdown",
   "metadata": {},
   "source": [
    "### 2. Test the Spotify API"
   ]
  },
  {
   "cell_type": "code",
   "execution_count": 5,
   "metadata": {},
   "outputs": [],
   "source": [
    "track_ids = list(set(pd.read_csv(\"../data/spotify_songs.csv\")[\"track_id\"].to_list()))\n",
    "artists_ids = [\n",
    "    \"2CIMQHirSU0MQqyYHq0eOx\",\n",
    "    \"57dN52uHvrHOxijzpIgu3E\",\n",
    "    \"1vCWHaC5f2uS3yhpwWbIA6\",\n",
    "]\n"
   ]
  },
  {
   "cell_type": "code",
   "execution_count": 6,
   "metadata": {},
   "outputs": [],
   "source": [
    "data_retriever = DataRetriever()\n",
    "all_artists_data = data_retriever.get_artist_data(\",\".join(artists_ids))\n",
    "\n",
    "features_of_interest = [\"genres\", \"id\", \"name\", \"uri\"]\n",
    "filtered_artists_data = [\n",
    "    {k: artist_data[k] for k in features_of_interest}\n",
    "    for artist_data in all_artists_data\n",
    "]\n",
    "\n",
    "DataSaver.store(filtered_artists_data, ARTIST_DATA_PATH)\n"
   ]
  },
  {
   "cell_type": "code",
   "execution_count": 7,
   "metadata": {},
   "outputs": [
    {
     "name": "stderr",
     "output_type": "stream",
     "text": [
      "100%|██████████| 1/1 [00:00<00:00,  1.12it/s]\n"
     ]
    }
   ],
   "source": [
    "batch_size = 100\n",
    "request_per_minute = 100\n",
    "number_of_tracks = 100\n",
    "data_retriever = DataRetriever()\n",
    "\n",
    "all_audio_features = []\n",
    "\n",
    "for batch_index in tqdm(range(len(track_ids[:number_of_tracks]) // batch_size)):\n",
    "    audio_features = data_retriever.get_audio_features(\n",
    "        \",\".join(track_ids[batch_index * batch_size : (batch_index + 1) * batch_size])\n",
    "    )\n",
    "    all_audio_features.extend(audio_features)\n",
    "\n",
    "    time.sleep(60 / request_per_minute)\n",
    "DataSaver.store(all_audio_features, AUDIO_FEATURES_DATA_PATH)\n"
   ]
  }
 ],
 "metadata": {
  "kernelspec": {
   "display_name": "base",
   "language": "python",
   "name": "python3"
  },
  "language_info": {
   "codemirror_mode": {
    "name": "ipython",
    "version": 3
   },
   "file_extension": ".py",
   "mimetype": "text/x-python",
   "name": "python",
   "nbconvert_exporter": "python",
   "pygments_lexer": "ipython3",
   "version": "3.11.4"
  }
 },
 "nbformat": 4,
 "nbformat_minor": 2
}
