{
 "cells": [
  {
   "cell_type": "code",
   "execution_count": 75,
   "metadata": {},
   "outputs": [],
   "source": [
    "import json\n",
    "import requests"
   ]
  },
  {
   "cell_type": "code",
   "execution_count": 76,
   "metadata": {},
   "outputs": [],
   "source": [
    "CREDENTIALS_FILE_PATH = \"../spotify_key.config\"\n",
    "STORED_DATA_PATH = \"../data/audio_features.json\""
   ]
  },
  {
   "cell_type": "code",
   "execution_count": 77,
   "metadata": {},
   "outputs": [],
   "source": [
    "class DataRetriever:\n",
    "    UNWANTED_AUDIO_FEATURES = [\"id\", \"track_href\", \"analysis_url\", \"type\"]\n",
    "\n",
    "    def __init__(self):\n",
    "        self.__auth_token = self.__get_auth_token()\n",
    "\n",
    "    def __get_auth_token(self):\n",
    "        with open(CREDENTIALS_FILE_PATH, \"r\") as input_file:\n",
    "            credentials = input_file.read()\n",
    "        client_id, client_secret = credentials.split(\"\\n\")\n",
    "\n",
    "        response = requests.post(\n",
    "            \"https://accounts.spotify.com/api/token\",\n",
    "            {\n",
    "                \"grant_type\": \"client_credentials\",\n",
    "                \"client_id\": client_id,\n",
    "                \"client_secret\": client_secret,\n",
    "            },\n",
    "        )\n",
    "\n",
    "        auth_token = response.json()[\"access_token\"]\n",
    "\n",
    "        return auth_token\n",
    "\n",
    "    def get_audio_features(self, track_id):\n",
    "        response = requests.get(\n",
    "            f\"https://api.spotify.com/v1/audio-features/{track_id}\",\n",
    "            headers={\"Authorization\": f\"Bearer {self.__auth_token}\"},\n",
    "        )\n",
    "\n",
    "        audio_features = response.json()\n",
    "\n",
    "        for audio_feature in self.UNWANTED_AUDIO_FEATURES:\n",
    "            del audio_features[audio_feature]\n",
    "\n",
    "        return audio_features\n",
    "    \n"
   ]
  },
  {
   "cell_type": "code",
   "execution_count": 78,
   "metadata": {},
   "outputs": [],
   "source": [
    "class DataSaver:\n",
    "    @staticmethod\n",
    "    def store(audio_features):\n",
    "        with open(STORED_DATA_PATH, \"w\") as output_file:\n",
    "            json.dump(audio_features, output_file, indent=4)"
   ]
  },
  {
   "cell_type": "code",
   "execution_count": 79,
   "metadata": {},
   "outputs": [],
   "source": [
    "data_retriever = DataRetriever()\n",
    "data = data_retriever.get_audio_features(\"23EOmJivOZ88WJPUbIPjh6\")\n",
    "DataSaver.store(data)"
   ]
  },
  {
   "cell_type": "code",
   "execution_count": null,
   "metadata": {},
   "outputs": [],
   "source": []
  }
 ],
 "metadata": {
  "kernelspec": {
   "display_name": "base",
   "language": "python",
   "name": "python3"
  },
  "language_info": {
   "codemirror_mode": {
    "name": "ipython",
    "version": 3
   },
   "file_extension": ".py",
   "mimetype": "text/x-python",
   "name": "python",
   "nbconvert_exporter": "python",
   "pygments_lexer": "ipython3",
   "version": "3.11.4"
  }
 },
 "nbformat": 4,
 "nbformat_minor": 2
}
